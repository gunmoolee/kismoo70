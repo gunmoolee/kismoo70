{
 "cells": [
  {
   "cell_type": "markdown",
   "metadata": {
    "colab_type": "text",
    "id": "bdauBIrEE9-S"
   },
   "source": [
    "# Predict diabetes through data analysis."
   ]
  },
  {
   "cell_type": "code",
   "execution_count": 2,
   "metadata": {
    "colab": {},
    "colab_type": "code",
    "id": "4oTV51HTE9-U"
   },
   "outputs": [],
   "source": [
    "import pandas as pd\n",
    "import numpy as np\n",
    "import matplotlib.pyplot as plt\n",
    "import warnings\n",
    "%matplotlib inline"
   ]
  },
  {
   "cell_type": "code",
   "execution_count": 3,
   "metadata": {
    "colab": {},
    "colab_type": "code",
    "id": "w1NrxLhTE9-X"
   },
   "outputs": [],
   "source": [
    "# import warnings filter\n",
    "from warnings import simplefilter\n",
    "# ignore all future warnings\n",
    "simplefilter(action='ignore', category=FutureWarning)"
   ]
  },
  {
   "cell_type": "code",
   "execution_count": 4,
   "metadata": {
    "colab": {
     "base_uri": "https://localhost:8080/",
     "height": 37
    },
    "colab_type": "code",
    "executionInfo": {
     "elapsed": 4765,
     "status": "ok",
     "timestamp": 1577166219938,
     "user": {
      "displayName": "이건무",
      "photoUrl": "https://lh3.googleusercontent.com/a-/AAuE7mBO5TbFEUXoPg9rEN8WwNftzu57wNaWgm26dWXgDQ=s64",
      "userId": "10344845448920829235"
     },
     "user_tz": -540
    },
    "id": "6Fxfm3aVbav6",
    "outputId": "c7617969-5af7-425a-dae5-ccf511737a27"
   },
   "outputs": [
    {
     "name": "stderr",
     "output_type": "stream",
     "text": [
      "'ls'은(는) 내부 또는 외부 명령, 실행할 수 있는 프로그램, 또는\n",
      "배치 파일이 아닙니다.\n"
     ]
    }
   ],
   "source": [
    "!ls"
   ]
  },
  {
   "cell_type": "code",
   "execution_count": 5,
   "metadata": {
    "colab": {
     "base_uri": "https://localhost:8080/",
     "height": 83,
     "resources": {
      "http://localhost:8080/nbextensions/google.colab/files.js": {
       "data": "Ly8gQ29weXJpZ2h0IDIwMTcgR29vZ2xlIExMQwovLwovLyBMaWNlbnNlZCB1bmRlciB0aGUgQXBhY2hlIExpY2Vuc2UsIFZlcnNpb24gMi4wICh0aGUgIkxpY2Vuc2UiKTsKLy8geW91IG1heSBub3QgdXNlIHRoaXMgZmlsZSBleGNlcHQgaW4gY29tcGxpYW5jZSB3aXRoIHRoZSBMaWNlbnNlLgovLyBZb3UgbWF5IG9idGFpbiBhIGNvcHkgb2YgdGhlIExpY2Vuc2UgYXQKLy8KLy8gICAgICBodHRwOi8vd3d3LmFwYWNoZS5vcmcvbGljZW5zZXMvTElDRU5TRS0yLjAKLy8KLy8gVW5sZXNzIHJlcXVpcmVkIGJ5IGFwcGxpY2FibGUgbGF3IG9yIGFncmVlZCB0byBpbiB3cml0aW5nLCBzb2Z0d2FyZQovLyBkaXN0cmlidXRlZCB1bmRlciB0aGUgTGljZW5zZSBpcyBkaXN0cmlidXRlZCBvbiBhbiAiQVMgSVMiIEJBU0lTLAovLyBXSVRIT1VUIFdBUlJBTlRJRVMgT1IgQ09ORElUSU9OUyBPRiBBTlkgS0lORCwgZWl0aGVyIGV4cHJlc3Mgb3IgaW1wbGllZC4KLy8gU2VlIHRoZSBMaWNlbnNlIGZvciB0aGUgc3BlY2lmaWMgbGFuZ3VhZ2UgZ292ZXJuaW5nIHBlcm1pc3Npb25zIGFuZAovLyBsaW1pdGF0aW9ucyB1bmRlciB0aGUgTGljZW5zZS4KCi8qKgogKiBAZmlsZW92ZXJ2aWV3IEhlbHBlcnMgZm9yIGdvb2dsZS5jb2xhYiBQeXRob24gbW9kdWxlLgogKi8KKGZ1bmN0aW9uKHNjb3BlKSB7CmZ1bmN0aW9uIHNwYW4odGV4dCwgc3R5bGVBdHRyaWJ1dGVzID0ge30pIHsKICBjb25zdCBlbGVtZW50ID0gZG9jdW1lbnQuY3JlYXRlRWxlbWVudCgnc3BhbicpOwogIGVsZW1lbnQudGV4dENvbnRlbnQgPSB0ZXh0OwogIGZvciAoY29uc3Qga2V5IG9mIE9iamVjdC5rZXlzKHN0eWxlQXR0cmlidXRlcykpIHsKICAgIGVsZW1lbnQuc3R5bGVba2V5XSA9IHN0eWxlQXR0cmlidXRlc1trZXldOwogIH0KICByZXR1cm4gZWxlbWVudDsKfQoKLy8gTWF4IG51bWJlciBvZiBieXRlcyB3aGljaCB3aWxsIGJlIHVwbG9hZGVkIGF0IGEgdGltZS4KY29uc3QgTUFYX1BBWUxPQURfU0laRSA9IDEwMCAqIDEwMjQ7Ci8vIE1heCBhbW91bnQgb2YgdGltZSB0byBibG9jayB3YWl0aW5nIGZvciB0aGUgdXNlci4KY29uc3QgRklMRV9DSEFOR0VfVElNRU9VVF9NUyA9IDMwICogMTAwMDsKCmZ1bmN0aW9uIF91cGxvYWRGaWxlcyhpbnB1dElkLCBvdXRwdXRJZCkgewogIGNvbnN0IHN0ZXBzID0gdXBsb2FkRmlsZXNTdGVwKGlucHV0SWQsIG91dHB1dElkKTsKICBjb25zdCBvdXRwdXRFbGVtZW50ID0gZG9jdW1lbnQuZ2V0RWxlbWVudEJ5SWQob3V0cHV0SWQpOwogIC8vIENhY2hlIHN0ZXBzIG9uIHRoZSBvdXRwdXRFbGVtZW50IHRvIG1ha2UgaXQgYXZhaWxhYmxlIGZvciB0aGUgbmV4dCBjYWxsCiAgLy8gdG8gdXBsb2FkRmlsZXNDb250aW51ZSBmcm9tIFB5dGhvbi4KICBvdXRwdXRFbGVtZW50LnN0ZXBzID0gc3RlcHM7CgogIHJldHVybiBfdXBsb2FkRmlsZXNDb250aW51ZShvdXRwdXRJZCk7Cn0KCi8vIFRoaXMgaXMgcm91Z2hseSBhbiBhc3luYyBnZW5lcmF0b3IgKG5vdCBzdXBwb3J0ZWQgaW4gdGhlIGJyb3dzZXIgeWV0KSwKLy8gd2hlcmUgdGhlcmUgYXJlIG11bHRpcGxlIGFzeW5jaHJvbm91cyBzdGVwcyBhbmQgdGhlIFB5dGhvbiBzaWRlIGlzIGdvaW5nCi8vIHRvIHBvbGwgZm9yIGNvbXBsZXRpb24gb2YgZWFjaCBzdGVwLgovLyBUaGlzIHVzZXMgYSBQcm9taXNlIHRvIGJsb2NrIHRoZSBweXRob24gc2lkZSBvbiBjb21wbGV0aW9uIG9mIGVhY2ggc3RlcCwKLy8gdGhlbiBwYXNzZXMgdGhlIHJlc3VsdCBvZiB0aGUgcHJldmlvdXMgc3RlcCBhcyB0aGUgaW5wdXQgdG8gdGhlIG5leHQgc3RlcC4KZnVuY3Rpb24gX3VwbG9hZEZpbGVzQ29udGludWUob3V0cHV0SWQpIHsKICBjb25zdCBvdXRwdXRFbGVtZW50ID0gZG9jdW1lbnQuZ2V0RWxlbWVudEJ5SWQob3V0cHV0SWQpOwogIGNvbnN0IHN0ZXBzID0gb3V0cHV0RWxlbWVudC5zdGVwczsKCiAgY29uc3QgbmV4dCA9IHN0ZXBzLm5leHQob3V0cHV0RWxlbWVudC5sYXN0UHJvbWlzZVZhbHVlKTsKICByZXR1cm4gUHJvbWlzZS5yZXNvbHZlKG5leHQudmFsdWUucHJvbWlzZSkudGhlbigodmFsdWUpID0+IHsKICAgIC8vIENhY2hlIHRoZSBsYXN0IHByb21pc2UgdmFsdWUgdG8gbWFrZSBpdCBhdmFpbGFibGUgdG8gdGhlIG5leHQKICAgIC8vIHN0ZXAgb2YgdGhlIGdlbmVyYXRvci4KICAgIG91dHB1dEVsZW1lbnQubGFzdFByb21pc2VWYWx1ZSA9IHZhbHVlOwogICAgcmV0dXJuIG5leHQudmFsdWUucmVzcG9uc2U7CiAgfSk7Cn0KCi8qKgogKiBHZW5lcmF0b3IgZnVuY3Rpb24gd2hpY2ggaXMgY2FsbGVkIGJldHdlZW4gZWFjaCBhc3luYyBzdGVwIG9mIHRoZSB1cGxvYWQKICogcHJvY2Vzcy4KICogQHBhcmFtIHtzdHJpbmd9IGlucHV0SWQgRWxlbWVudCBJRCBvZiB0aGUgaW5wdXQgZmlsZSBwaWNrZXIgZWxlbWVudC4KICogQHBhcmFtIHtzdHJpbmd9IG91dHB1dElkIEVsZW1lbnQgSUQgb2YgdGhlIG91dHB1dCBkaXNwbGF5LgogKiBAcmV0dXJuIHshSXRlcmFibGU8IU9iamVjdD59IEl0ZXJhYmxlIG9mIG5leHQgc3RlcHMuCiAqLwpmdW5jdGlvbiogdXBsb2FkRmlsZXNTdGVwKGlucHV0SWQsIG91dHB1dElkKSB7CiAgY29uc3QgaW5wdXRFbGVtZW50ID0gZG9jdW1lbnQuZ2V0RWxlbWVudEJ5SWQoaW5wdXRJZCk7CiAgaW5wdXRFbGVtZW50LmRpc2FibGVkID0gZmFsc2U7CgogIGNvbnN0IG91dHB1dEVsZW1lbnQgPSBkb2N1bWVudC5nZXRFbGVtZW50QnlJZChvdXRwdXRJZCk7CiAgb3V0cHV0RWxlbWVudC5pbm5lckhUTUwgPSAnJzsKCiAgY29uc3QgcGlja2VkUHJvbWlzZSA9IG5ldyBQcm9taXNlKChyZXNvbHZlKSA9PiB7CiAgICBpbnB1dEVsZW1lbnQuYWRkRXZlbnRMaXN0ZW5lcignY2hhbmdlJywgKGUpID0+IHsKICAgICAgcmVzb2x2ZShlLnRhcmdldC5maWxlcyk7CiAgICB9KTsKICB9KTsKCiAgY29uc3QgY2FuY2VsID0gZG9jdW1lbnQuY3JlYXRlRWxlbWVudCgnYnV0dG9uJyk7CiAgaW5wdXRFbGVtZW50LnBhcmVudEVsZW1lbnQuYXBwZW5kQ2hpbGQoY2FuY2VsKTsKICBjYW5jZWwudGV4dENvbnRlbnQgPSAnQ2FuY2VsIHVwbG9hZCc7CiAgY29uc3QgY2FuY2VsUHJvbWlzZSA9IG5ldyBQcm9taXNlKChyZXNvbHZlKSA9PiB7CiAgICBjYW5jZWwub25jbGljayA9ICgpID0+IHsKICAgICAgcmVzb2x2ZShudWxsKTsKICAgIH07CiAgfSk7CgogIC8vIENhbmNlbCB1cGxvYWQgaWYgdXNlciBoYXNuJ3QgcGlja2VkIGFueXRoaW5nIGluIHRpbWVvdXQuCiAgY29uc3QgdGltZW91dFByb21pc2UgPSBuZXcgUHJvbWlzZSgocmVzb2x2ZSkgPT4gewogICAgc2V0VGltZW91dCgoKSA9PiB7CiAgICAgIHJlc29sdmUobnVsbCk7CiAgICB9LCBGSUxFX0NIQU5HRV9USU1FT1VUX01TKTsKICB9KTsKCiAgLy8gV2FpdCBmb3IgdGhlIHVzZXIgdG8gcGljayB0aGUgZmlsZXMuCiAgY29uc3QgZmlsZXMgPSB5aWVsZCB7CiAgICBwcm9taXNlOiBQcm9taXNlLnJhY2UoW3BpY2tlZFByb21pc2UsIHRpbWVvdXRQcm9taXNlLCBjYW5jZWxQcm9taXNlXSksCiAgICByZXNwb25zZTogewogICAgICBhY3Rpb246ICdzdGFydGluZycsCiAgICB9CiAgfTsKCiAgaWYgKCFmaWxlcykgewogICAgcmV0dXJuIHsKICAgICAgcmVzcG9uc2U6IHsKICAgICAgICBhY3Rpb246ICdjb21wbGV0ZScsCiAgICAgIH0KICAgIH07CiAgfQoKICBjYW5jZWwucmVtb3ZlKCk7CgogIC8vIERpc2FibGUgdGhlIGlucHV0IGVsZW1lbnQgc2luY2UgZnVydGhlciBwaWNrcyBhcmUgbm90IGFsbG93ZWQuCiAgaW5wdXRFbGVtZW50LmRpc2FibGVkID0gdHJ1ZTsKCiAgZm9yIChjb25zdCBmaWxlIG9mIGZpbGVzKSB7CiAgICBjb25zdCBsaSA9IGRvY3VtZW50LmNyZWF0ZUVsZW1lbnQoJ2xpJyk7CiAgICBsaS5hcHBlbmQoc3BhbihmaWxlLm5hbWUsIHtmb250V2VpZ2h0OiAnYm9sZCd9KSk7CiAgICBsaS5hcHBlbmQoc3BhbigKICAgICAgICBgKCR7ZmlsZS50eXBlIHx8ICduL2EnfSkgLSAke2ZpbGUuc2l6ZX0gYnl0ZXMsIGAgKwogICAgICAgIGBsYXN0IG1vZGlmaWVkOiAkewogICAgICAgICAgICBmaWxlLmxhc3RNb2RpZmllZERhdGUgPyBmaWxlLmxhc3RNb2RpZmllZERhdGUudG9Mb2NhbGVEYXRlU3RyaW5nKCkgOgogICAgICAgICAgICAgICAgICAgICAgICAgICAgICAgICAgICAnbi9hJ30gLSBgKSk7CiAgICBjb25zdCBwZXJjZW50ID0gc3BhbignMCUgZG9uZScpOwogICAgbGkuYXBwZW5kQ2hpbGQocGVyY2VudCk7CgogICAgb3V0cHV0RWxlbWVudC5hcHBlbmRDaGlsZChsaSk7CgogICAgY29uc3QgZmlsZURhdGFQcm9taXNlID0gbmV3IFByb21pc2UoKHJlc29sdmUpID0+IHsKICAgICAgY29uc3QgcmVhZGVyID0gbmV3IEZpbGVSZWFkZXIoKTsKICAgICAgcmVhZGVyLm9ubG9hZCA9IChlKSA9PiB7CiAgICAgICAgcmVzb2x2ZShlLnRhcmdldC5yZXN1bHQpOwogICAgICB9OwogICAgICByZWFkZXIucmVhZEFzQXJyYXlCdWZmZXIoZmlsZSk7CiAgICB9KTsKICAgIC8vIFdhaXQgZm9yIHRoZSBkYXRhIHRvIGJlIHJlYWR5LgogICAgbGV0IGZpbGVEYXRhID0geWllbGQgewogICAgICBwcm9taXNlOiBmaWxlRGF0YVByb21pc2UsCiAgICAgIHJlc3BvbnNlOiB7CiAgICAgICAgYWN0aW9uOiAnY29udGludWUnLAogICAgICB9CiAgICB9OwoKICAgIC8vIFVzZSBhIGNodW5rZWQgc2VuZGluZyB0byBhdm9pZCBtZXNzYWdlIHNpemUgbGltaXRzLiBTZWUgYi82MjExNTY2MC4KICAgIGxldCBwb3NpdGlvbiA9IDA7CiAgICB3aGlsZSAocG9zaXRpb24gPCBmaWxlRGF0YS5ieXRlTGVuZ3RoKSB7CiAgICAgIGNvbnN0IGxlbmd0aCA9IE1hdGgubWluKGZpbGVEYXRhLmJ5dGVMZW5ndGggLSBwb3NpdGlvbiwgTUFYX1BBWUxPQURfU0laRSk7CiAgICAgIGNvbnN0IGNodW5rID0gbmV3IFVpbnQ4QXJyYXkoZmlsZURhdGEsIHBvc2l0aW9uLCBsZW5ndGgpOwogICAgICBwb3NpdGlvbiArPSBsZW5ndGg7CgogICAgICBjb25zdCBiYXNlNjQgPSBidG9hKFN0cmluZy5mcm9tQ2hhckNvZGUuYXBwbHkobnVsbCwgY2h1bmspKTsKICAgICAgeWllbGQgewogICAgICAgIHJlc3BvbnNlOiB7CiAgICAgICAgICBhY3Rpb246ICdhcHBlbmQnLAogICAgICAgICAgZmlsZTogZmlsZS5uYW1lLAogICAgICAgICAgZGF0YTogYmFzZTY0LAogICAgICAgIH0sCiAgICAgIH07CiAgICAgIHBlcmNlbnQudGV4dENvbnRlbnQgPQogICAgICAgICAgYCR7TWF0aC5yb3VuZCgocG9zaXRpb24gLyBmaWxlRGF0YS5ieXRlTGVuZ3RoKSAqIDEwMCl9JSBkb25lYDsKICAgIH0KICB9CgogIC8vIEFsbCBkb25lLgogIHlpZWxkIHsKICAgIHJlc3BvbnNlOiB7CiAgICAgIGFjdGlvbjogJ2NvbXBsZXRlJywKICAgIH0KICB9Owp9CgpzY29wZS5nb29nbGUgPSBzY29wZS5nb29nbGUgfHwge307CnNjb3BlLmdvb2dsZS5jb2xhYiA9IHNjb3BlLmdvb2dsZS5jb2xhYiB8fCB7fTsKc2NvcGUuZ29vZ2xlLmNvbGFiLl9maWxlcyA9IHsKICBfdXBsb2FkRmlsZXMsCiAgX3VwbG9hZEZpbGVzQ29udGludWUsCn07Cn0pKHNlbGYpOwo=",
       "headers": [
        [
         "content-type",
         "application/javascript"
        ]
       ],
       "ok": true,
       "status": 200,
       "status_text": ""
      }
     }
    },
    "colab_type": "code",
    "executionInfo": {
     "elapsed": 12674,
     "status": "ok",
     "timestamp": 1577166211933,
     "user": {
      "displayName": "이건무",
      "photoUrl": "https://lh3.googleusercontent.com/a-/AAuE7mBO5TbFEUXoPg9rEN8WwNftzu57wNaWgm26dWXgDQ=s64",
      "userId": "10344845448920829235"
     },
     "user_tz": -540
    },
    "id": "u82hp1Dnbez3",
    "outputId": "a7ebe5b5-a8b3-4c2a-a66e-391c0c4dc8f5"
   },
   "outputs": [
    {
     "data": {
      "text/plain": [
       "'\\nfrom google.colab import files\\nuploaded = files.upload()\\n'"
      ]
     },
     "execution_count": 5,
     "metadata": {},
     "output_type": "execute_result"
    }
   ],
   "source": [
    "\"\"\"\n",
    "from google.colab import files\n",
    "uploaded = files.upload()\n",
    "\"\"\""
   ]
  },
  {
   "cell_type": "markdown",
   "metadata": {
    "colab_type": "text",
    "id": "a6CYYT38E9-Z"
   },
   "source": [
    "위의 문장은 경고를 무시하기 위한 문장으로 없어도 무방하다."
   ]
  },
  {
   "cell_type": "markdown",
   "metadata": {
    "colab_type": "text",
    "id": "ySIDYKNiE9-a"
   },
   "source": [
    "## data preprocessing"
   ]
  },
  {
   "cell_type": "code",
   "execution_count": 6,
   "metadata": {
    "colab": {},
    "colab_type": "code",
    "id": "V7XpKtxKE9-a"
   },
   "outputs": [],
   "source": [
    "data = pd.read_excel(\"./kosfi3.xlsx\")"
   ]
  },
  {
   "cell_type": "code",
   "execution_count": 7,
   "metadata": {
    "colab": {
     "base_uri": "https://localhost:8080/",
     "height": 214
    },
    "colab_type": "code",
    "executionInfo": {
     "elapsed": 1663,
     "status": "ok",
     "timestamp": 1577166271879,
     "user": {
      "displayName": "이건무",
      "photoUrl": "https://lh3.googleusercontent.com/a-/AAuE7mBO5TbFEUXoPg9rEN8WwNftzu57wNaWgm26dWXgDQ=s64",
      "userId": "10344845448920829235"
     },
     "user_tz": -540
    },
    "id": "JBVSrzo1E9-d",
    "outputId": "d5b1a248-83bb-4992-f3c9-681c0e3d366c"
   },
   "outputs": [
    {
     "data": {
      "text/html": [
       "<div>\n",
       "<style scoped>\n",
       "    .dataframe tbody tr th:only-of-type {\n",
       "        vertical-align: middle;\n",
       "    }\n",
       "\n",
       "    .dataframe tbody tr th {\n",
       "        vertical-align: top;\n",
       "    }\n",
       "\n",
       "    .dataframe thead th {\n",
       "        text-align: right;\n",
       "    }\n",
       "</style>\n",
       "<table border=\"1\" class=\"dataframe\">\n",
       "  <thead>\n",
       "    <tr style=\"text-align: right;\">\n",
       "      <th></th>\n",
       "      <th>date</th>\n",
       "      <th>the_open</th>\n",
       "      <th>the_high</th>\n",
       "      <th>the_low</th>\n",
       "      <th>the_close</th>\n",
       "      <th>the_vol</th>\n",
       "      <th>usd_kor</th>\n",
       "      <th>nasdaq</th>\n",
       "      <th>open_by_open_1</th>\n",
       "      <th>high_by_open_1</th>\n",
       "      <th>usd_by_yes_1</th>\n",
       "      <th>nas_by_yes_1</th>\n",
       "      <th>good_bad</th>\n",
       "    </tr>\n",
       "  </thead>\n",
       "  <tbody>\n",
       "    <tr>\n",
       "      <td>0</td>\n",
       "      <td>2015-12-17</td>\n",
       "      <td>10240</td>\n",
       "      <td>10405</td>\n",
       "      <td>9970</td>\n",
       "      <td>10330</td>\n",
       "      <td>946156</td>\n",
       "      <td>1183.06</td>\n",
       "      <td>5002.549805</td>\n",
       "      <td>NaN</td>\n",
       "      <td>NaN</td>\n",
       "      <td>NaN</td>\n",
       "      <td>NaN</td>\n",
       "      <td>NaN</td>\n",
       "    </tr>\n",
       "    <tr>\n",
       "      <td>1</td>\n",
       "      <td>2015-12-18</td>\n",
       "      <td>10230</td>\n",
       "      <td>10710</td>\n",
       "      <td>10165</td>\n",
       "      <td>10710</td>\n",
       "      <td>1841150</td>\n",
       "      <td>1180.43</td>\n",
       "      <td>4923.080078</td>\n",
       "      <td>0.999023</td>\n",
       "      <td>1.017107</td>\n",
       "      <td>1.002228</td>\n",
       "      <td>0.984114</td>\n",
       "      <td>1.0</td>\n",
       "    </tr>\n",
       "    <tr>\n",
       "      <td>2</td>\n",
       "      <td>2015-12-21</td>\n",
       "      <td>10695</td>\n",
       "      <td>10825</td>\n",
       "      <td>10670</td>\n",
       "      <td>10720</td>\n",
       "      <td>1274858</td>\n",
       "      <td>1173.61</td>\n",
       "      <td>4968.919922</td>\n",
       "      <td>1.045455</td>\n",
       "      <td>1.001403</td>\n",
       "      <td>1.005811</td>\n",
       "      <td>1.009311</td>\n",
       "      <td>0.0</td>\n",
       "    </tr>\n",
       "    <tr>\n",
       "      <td>3</td>\n",
       "      <td>2015-12-22</td>\n",
       "      <td>10740</td>\n",
       "      <td>10750</td>\n",
       "      <td>10450</td>\n",
       "      <td>10495</td>\n",
       "      <td>1374974</td>\n",
       "      <td>1169.11</td>\n",
       "      <td>5001.109863</td>\n",
       "      <td>1.004208</td>\n",
       "      <td>1.007914</td>\n",
       "      <td>1.003849</td>\n",
       "      <td>1.006478</td>\n",
       "      <td>0.0</td>\n",
       "    </tr>\n",
       "    <tr>\n",
       "      <td>4</td>\n",
       "      <td>2015-12-23</td>\n",
       "      <td>10535</td>\n",
       "      <td>10635</td>\n",
       "      <td>10415</td>\n",
       "      <td>10425</td>\n",
       "      <td>2532341</td>\n",
       "      <td>1172.16</td>\n",
       "      <td>5045.930176</td>\n",
       "      <td>0.980912</td>\n",
       "      <td>1.020408</td>\n",
       "      <td>0.997398</td>\n",
       "      <td>1.008962</td>\n",
       "      <td>0.0</td>\n",
       "    </tr>\n",
       "  </tbody>\n",
       "</table>\n",
       "</div>"
      ],
      "text/plain": [
       "        date  the_open  the_high  the_low  the_close  the_vol  usd_kor  \\\n",
       "0 2015-12-17     10240     10405     9970      10330   946156  1183.06   \n",
       "1 2015-12-18     10230     10710    10165      10710  1841150  1180.43   \n",
       "2 2015-12-21     10695     10825    10670      10720  1274858  1173.61   \n",
       "3 2015-12-22     10740     10750    10450      10495  1374974  1169.11   \n",
       "4 2015-12-23     10535     10635    10415      10425  2532341  1172.16   \n",
       "\n",
       "        nasdaq  open_by_open_1  high_by_open_1  usd_by_yes_1  nas_by_yes_1  \\\n",
       "0  5002.549805             NaN             NaN           NaN           NaN   \n",
       "1  4923.080078        0.999023        1.017107      1.002228      0.984114   \n",
       "2  4968.919922        1.045455        1.001403      1.005811      1.009311   \n",
       "3  5001.109863        1.004208        1.007914      1.003849      1.006478   \n",
       "4  5045.930176        0.980912        1.020408      0.997398      1.008962   \n",
       "\n",
       "   good_bad  \n",
       "0       NaN  \n",
       "1       1.0  \n",
       "2       0.0  \n",
       "3       0.0  \n",
       "4       0.0  "
      ]
     },
     "execution_count": 7,
     "metadata": {},
     "output_type": "execute_result"
    }
   ],
   "source": [
    "data.head()"
   ]
  },
  {
   "cell_type": "code",
   "execution_count": 8,
   "metadata": {
    "colab": {
     "base_uri": "https://localhost:8080/",
     "height": 288
    },
    "colab_type": "code",
    "executionInfo": {
     "elapsed": 1629,
     "status": "ok",
     "timestamp": 1577166279620,
     "user": {
      "displayName": "이건무",
      "photoUrl": "https://lh3.googleusercontent.com/a-/AAuE7mBO5TbFEUXoPg9rEN8WwNftzu57wNaWgm26dWXgDQ=s64",
      "userId": "10344845448920829235"
     },
     "user_tz": -540
    },
    "id": "3kSfCOkiE9-h",
    "outputId": "0217e579-4d95-4124-8584-4d328bd4cba7"
   },
   "outputs": [
    {
     "name": "stdout",
     "output_type": "stream",
     "text": [
      "<class 'pandas.core.frame.DataFrame'>\n",
      "RangeIndex: 982 entries, 0 to 981\n",
      "Data columns (total 13 columns):\n",
      "date              982 non-null datetime64[ns]\n",
      "the_open          982 non-null int64\n",
      "the_high          982 non-null int64\n",
      "the_low           982 non-null int64\n",
      "the_close         982 non-null int64\n",
      "the_vol           982 non-null int64\n",
      "usd_kor           982 non-null float64\n",
      "nasdaq            982 non-null float64\n",
      "open_by_open_1    981 non-null float64\n",
      "high_by_open_1    981 non-null float64\n",
      "usd_by_yes_1      981 non-null float64\n",
      "nas_by_yes_1      981 non-null float64\n",
      "good_bad          981 non-null float64\n",
      "dtypes: datetime64[ns](1), float64(7), int64(5)\n",
      "memory usage: 99.9 KB\n"
     ]
    }
   ],
   "source": [
    "data.info()"
   ]
  },
  {
   "cell_type": "markdown",
   "metadata": {
    "colab_type": "text",
    "id": "zvSSmQ61E9-j"
   },
   "source": [
    "  .info() : 해당 데이터프레임의 상세한 정보를 볼 수 있다.  \n",
    "  데이터의 총 개수(0~n행까지), 데이터의 칼럼명, 데이터의 개수, 데이터의 타입을 확인할 수 있다.  \n",
    "  반드시 데이터의 타입을 확인해야 한다. "
   ]
  },
  {
   "cell_type": "code",
   "execution_count": 9,
   "metadata": {
    "colab": {
     "base_uri": "https://localhost:8080/",
     "height": 312
    },
    "colab_type": "code",
    "executionInfo": {
     "elapsed": 1674,
     "status": "ok",
     "timestamp": 1577166291076,
     "user": {
      "displayName": "이건무",
      "photoUrl": "https://lh3.googleusercontent.com/a-/AAuE7mBO5TbFEUXoPg9rEN8WwNftzu57wNaWgm26dWXgDQ=s64",
      "userId": "10344845448920829235"
     },
     "user_tz": -540
    },
    "id": "7333nTdyE9-j",
    "outputId": "9ffebaa8-399f-4559-e499-d9595eb3cec4"
   },
   "outputs": [
    {
     "data": {
      "text/html": [
       "<div>\n",
       "<style scoped>\n",
       "    .dataframe tbody tr th:only-of-type {\n",
       "        vertical-align: middle;\n",
       "    }\n",
       "\n",
       "    .dataframe tbody tr th {\n",
       "        vertical-align: top;\n",
       "    }\n",
       "\n",
       "    .dataframe thead th {\n",
       "        text-align: right;\n",
       "    }\n",
       "</style>\n",
       "<table border=\"1\" class=\"dataframe\">\n",
       "  <thead>\n",
       "    <tr style=\"text-align: right;\">\n",
       "      <th></th>\n",
       "      <th>the_open</th>\n",
       "      <th>the_high</th>\n",
       "      <th>the_low</th>\n",
       "      <th>the_close</th>\n",
       "      <th>the_vol</th>\n",
       "      <th>usd_kor</th>\n",
       "      <th>nasdaq</th>\n",
       "      <th>open_by_open_1</th>\n",
       "      <th>high_by_open_1</th>\n",
       "      <th>usd_by_yes_1</th>\n",
       "      <th>nas_by_yes_1</th>\n",
       "      <th>good_bad</th>\n",
       "    </tr>\n",
       "  </thead>\n",
       "  <tbody>\n",
       "    <tr>\n",
       "      <td>count</td>\n",
       "      <td>982.000000</td>\n",
       "      <td>982.000000</td>\n",
       "      <td>982.000000</td>\n",
       "      <td>982.000000</td>\n",
       "      <td>9.820000e+02</td>\n",
       "      <td>982.000000</td>\n",
       "      <td>982.000000</td>\n",
       "      <td>981.000000</td>\n",
       "      <td>981.000000</td>\n",
       "      <td>981.000000</td>\n",
       "      <td>981.000000</td>\n",
       "      <td>981.000000</td>\n",
       "    </tr>\n",
       "    <tr>\n",
       "      <td>mean</td>\n",
       "      <td>12311.532587</td>\n",
       "      <td>12526.761711</td>\n",
       "      <td>12075.010183</td>\n",
       "      <td>12302.856415</td>\n",
       "      <td>1.022008e+07</td>\n",
       "      <td>1138.532968</td>\n",
       "      <td>6619.825847</td>\n",
       "      <td>1.000206</td>\n",
       "      <td>1.016697</td>\n",
       "      <td>1.000033</td>\n",
       "      <td>1.000645</td>\n",
       "      <td>0.316004</td>\n",
       "    </tr>\n",
       "    <tr>\n",
       "      <td>std</td>\n",
       "      <td>4665.200542</td>\n",
       "      <td>4806.259791</td>\n",
       "      <td>4514.068082</td>\n",
       "      <td>4672.922730</td>\n",
       "      <td>1.060991e+07</td>\n",
       "      <td>39.154951</td>\n",
       "      <td>1203.990895</td>\n",
       "      <td>0.029851</td>\n",
       "      <td>0.024111</td>\n",
       "      <td>0.005511</td>\n",
       "      <td>0.010249</td>\n",
       "      <td>0.465152</td>\n",
       "    </tr>\n",
       "    <tr>\n",
       "      <td>min</td>\n",
       "      <td>5510.000000</td>\n",
       "      <td>5980.000000</td>\n",
       "      <td>5420.000000</td>\n",
       "      <td>5560.000000</td>\n",
       "      <td>3.294170e+05</td>\n",
       "      <td>1053.730000</td>\n",
       "      <td>4266.839844</td>\n",
       "      <td>0.798551</td>\n",
       "      <td>0.951950</td>\n",
       "      <td>0.974928</td>\n",
       "      <td>0.955746</td>\n",
       "      <td>0.000000</td>\n",
       "    </tr>\n",
       "    <tr>\n",
       "      <td>25%</td>\n",
       "      <td>9038.750000</td>\n",
       "      <td>9138.750000</td>\n",
       "      <td>8841.250000</td>\n",
       "      <td>8965.000000</td>\n",
       "      <td>1.910515e+06</td>\n",
       "      <td>1116.715000</td>\n",
       "      <td>5437.510132</td>\n",
       "      <td>0.985259</td>\n",
       "      <td>1.002329</td>\n",
       "      <td>0.996514</td>\n",
       "      <td>0.996714</td>\n",
       "      <td>0.000000</td>\n",
       "    </tr>\n",
       "    <tr>\n",
       "      <td>50%</td>\n",
       "      <td>10680.000000</td>\n",
       "      <td>10770.000000</td>\n",
       "      <td>10542.500000</td>\n",
       "      <td>10672.500000</td>\n",
       "      <td>7.236099e+06</td>\n",
       "      <td>1133.315000</td>\n",
       "      <td>6859.424805</td>\n",
       "      <td>1.000925</td>\n",
       "      <td>1.010555</td>\n",
       "      <td>0.999938</td>\n",
       "      <td>1.000777</td>\n",
       "      <td>0.000000</td>\n",
       "    </tr>\n",
       "    <tr>\n",
       "      <td>75%</td>\n",
       "      <td>13913.750000</td>\n",
       "      <td>14305.000000</td>\n",
       "      <td>13648.750000</td>\n",
       "      <td>13841.250000</td>\n",
       "      <td>1.528816e+07</td>\n",
       "      <td>1168.550000</td>\n",
       "      <td>7688.494873</td>\n",
       "      <td>1.016016</td>\n",
       "      <td>1.024744</td>\n",
       "      <td>1.003471</td>\n",
       "      <td>1.006035</td>\n",
       "      <td>1.000000</td>\n",
       "    </tr>\n",
       "    <tr>\n",
       "      <td>max</td>\n",
       "      <td>28560.000000</td>\n",
       "      <td>28920.000000</td>\n",
       "      <td>27750.000000</td>\n",
       "      <td>28395.000000</td>\n",
       "      <td>7.919622e+07</td>\n",
       "      <td>1241.130000</td>\n",
       "      <td>8945.650391</td>\n",
       "      <td>1.145416</td>\n",
       "      <td>1.253176</td>\n",
       "      <td>1.020039</td>\n",
       "      <td>1.058363</td>\n",
       "      <td>1.000000</td>\n",
       "    </tr>\n",
       "  </tbody>\n",
       "</table>\n",
       "</div>"
      ],
      "text/plain": [
       "           the_open      the_high       the_low     the_close       the_vol  \\\n",
       "count    982.000000    982.000000    982.000000    982.000000  9.820000e+02   \n",
       "mean   12311.532587  12526.761711  12075.010183  12302.856415  1.022008e+07   \n",
       "std     4665.200542   4806.259791   4514.068082   4672.922730  1.060991e+07   \n",
       "min     5510.000000   5980.000000   5420.000000   5560.000000  3.294170e+05   \n",
       "25%     9038.750000   9138.750000   8841.250000   8965.000000  1.910515e+06   \n",
       "50%    10680.000000  10770.000000  10542.500000  10672.500000  7.236099e+06   \n",
       "75%    13913.750000  14305.000000  13648.750000  13841.250000  1.528816e+07   \n",
       "max    28560.000000  28920.000000  27750.000000  28395.000000  7.919622e+07   \n",
       "\n",
       "           usd_kor       nasdaq  open_by_open_1  high_by_open_1  usd_by_yes_1  \\\n",
       "count   982.000000   982.000000      981.000000      981.000000    981.000000   \n",
       "mean   1138.532968  6619.825847        1.000206        1.016697      1.000033   \n",
       "std      39.154951  1203.990895        0.029851        0.024111      0.005511   \n",
       "min    1053.730000  4266.839844        0.798551        0.951950      0.974928   \n",
       "25%    1116.715000  5437.510132        0.985259        1.002329      0.996514   \n",
       "50%    1133.315000  6859.424805        1.000925        1.010555      0.999938   \n",
       "75%    1168.550000  7688.494873        1.016016        1.024744      1.003471   \n",
       "max    1241.130000  8945.650391        1.145416        1.253176      1.020039   \n",
       "\n",
       "       nas_by_yes_1    good_bad  \n",
       "count    981.000000  981.000000  \n",
       "mean       1.000645    0.316004  \n",
       "std        0.010249    0.465152  \n",
       "min        0.955746    0.000000  \n",
       "25%        0.996714    0.000000  \n",
       "50%        1.000777    0.000000  \n",
       "75%        1.006035    1.000000  \n",
       "max        1.058363    1.000000  "
      ]
     },
     "execution_count": 9,
     "metadata": {},
     "output_type": "execute_result"
    }
   ],
   "source": [
    "data.describe()"
   ]
  },
  {
   "cell_type": "code",
   "execution_count": 10,
   "metadata": {},
   "outputs": [
    {
     "data": {
      "text/html": [
       "<div>\n",
       "<style scoped>\n",
       "    .dataframe tbody tr th:only-of-type {\n",
       "        vertical-align: middle;\n",
       "    }\n",
       "\n",
       "    .dataframe tbody tr th {\n",
       "        vertical-align: top;\n",
       "    }\n",
       "\n",
       "    .dataframe thead th {\n",
       "        text-align: right;\n",
       "    }\n",
       "</style>\n",
       "<table border=\"1\" class=\"dataframe\">\n",
       "  <thead>\n",
       "    <tr style=\"text-align: right;\">\n",
       "      <th></th>\n",
       "      <th>date</th>\n",
       "      <th>the_open</th>\n",
       "      <th>the_high</th>\n",
       "      <th>the_low</th>\n",
       "      <th>the_close</th>\n",
       "      <th>the_vol</th>\n",
       "      <th>usd_kor</th>\n",
       "      <th>nasdaq</th>\n",
       "      <th>open_by_open_1</th>\n",
       "      <th>high_by_open_1</th>\n",
       "      <th>usd_by_yes_1</th>\n",
       "      <th>nas_by_yes_1</th>\n",
       "      <th>good_bad</th>\n",
       "    </tr>\n",
       "  </thead>\n",
       "  <tbody>\n",
       "    <tr>\n",
       "      <td>1</td>\n",
       "      <td>2015-12-18</td>\n",
       "      <td>10230</td>\n",
       "      <td>10710</td>\n",
       "      <td>10165</td>\n",
       "      <td>10710</td>\n",
       "      <td>1841150</td>\n",
       "      <td>1180.43</td>\n",
       "      <td>4923.080078</td>\n",
       "      <td>0.999023</td>\n",
       "      <td>1.017107</td>\n",
       "      <td>1.002228</td>\n",
       "      <td>0.984114</td>\n",
       "      <td>1.0</td>\n",
       "    </tr>\n",
       "    <tr>\n",
       "      <td>2</td>\n",
       "      <td>2015-12-21</td>\n",
       "      <td>10695</td>\n",
       "      <td>10825</td>\n",
       "      <td>10670</td>\n",
       "      <td>10720</td>\n",
       "      <td>1274858</td>\n",
       "      <td>1173.61</td>\n",
       "      <td>4968.919922</td>\n",
       "      <td>1.045455</td>\n",
       "      <td>1.001403</td>\n",
       "      <td>1.005811</td>\n",
       "      <td>1.009311</td>\n",
       "      <td>0.0</td>\n",
       "    </tr>\n",
       "    <tr>\n",
       "      <td>3</td>\n",
       "      <td>2015-12-22</td>\n",
       "      <td>10740</td>\n",
       "      <td>10750</td>\n",
       "      <td>10450</td>\n",
       "      <td>10495</td>\n",
       "      <td>1374974</td>\n",
       "      <td>1169.11</td>\n",
       "      <td>5001.109863</td>\n",
       "      <td>1.004208</td>\n",
       "      <td>1.007914</td>\n",
       "      <td>1.003849</td>\n",
       "      <td>1.006478</td>\n",
       "      <td>0.0</td>\n",
       "    </tr>\n",
       "    <tr>\n",
       "      <td>4</td>\n",
       "      <td>2015-12-23</td>\n",
       "      <td>10535</td>\n",
       "      <td>10635</td>\n",
       "      <td>10415</td>\n",
       "      <td>10425</td>\n",
       "      <td>2532341</td>\n",
       "      <td>1172.16</td>\n",
       "      <td>5045.930176</td>\n",
       "      <td>0.980912</td>\n",
       "      <td>1.020408</td>\n",
       "      <td>0.997398</td>\n",
       "      <td>1.008962</td>\n",
       "      <td>0.0</td>\n",
       "    </tr>\n",
       "    <tr>\n",
       "      <td>5</td>\n",
       "      <td>2015-12-24</td>\n",
       "      <td>10480</td>\n",
       "      <td>10525</td>\n",
       "      <td>10290</td>\n",
       "      <td>10295</td>\n",
       "      <td>1536790</td>\n",
       "      <td>1167.88</td>\n",
       "      <td>5048.490234</td>\n",
       "      <td>0.994779</td>\n",
       "      <td>1.014790</td>\n",
       "      <td>1.003665</td>\n",
       "      <td>1.000507</td>\n",
       "      <td>0.0</td>\n",
       "    </tr>\n",
       "  </tbody>\n",
       "</table>\n",
       "</div>"
      ],
      "text/plain": [
       "        date  the_open  the_high  the_low  the_close  the_vol  usd_kor  \\\n",
       "1 2015-12-18     10230     10710    10165      10710  1841150  1180.43   \n",
       "2 2015-12-21     10695     10825    10670      10720  1274858  1173.61   \n",
       "3 2015-12-22     10740     10750    10450      10495  1374974  1169.11   \n",
       "4 2015-12-23     10535     10635    10415      10425  2532341  1172.16   \n",
       "5 2015-12-24     10480     10525    10290      10295  1536790  1167.88   \n",
       "\n",
       "        nasdaq  open_by_open_1  high_by_open_1  usd_by_yes_1  nas_by_yes_1  \\\n",
       "1  4923.080078        0.999023        1.017107      1.002228      0.984114   \n",
       "2  4968.919922        1.045455        1.001403      1.005811      1.009311   \n",
       "3  5001.109863        1.004208        1.007914      1.003849      1.006478   \n",
       "4  5045.930176        0.980912        1.020408      0.997398      1.008962   \n",
       "5  5048.490234        0.994779        1.014790      1.003665      1.000507   \n",
       "\n",
       "   good_bad  \n",
       "1       1.0  \n",
       "2       0.0  \n",
       "3       0.0  \n",
       "4       0.0  \n",
       "5       0.0  "
      ]
     },
     "execution_count": 10,
     "metadata": {},
     "output_type": "execute_result"
    }
   ],
   "source": [
    "data = data.dropna()\n",
    "data.head()"
   ]
  },
  {
   "cell_type": "markdown",
   "metadata": {
    "colab_type": "text",
    "id": "4caD5qgyE9-m"
   },
   "source": [
    ".describe() : 데이터프레임의 상세한 정보(개수, 평균, 표준편차 등)를 볼 수 있다. "
   ]
  },
  {
   "cell_type": "code",
   "execution_count": 11,
   "metadata": {
    "colab": {
     "base_uri": "https://localhost:8080/",
     "height": 211
    },
    "colab_type": "code",
    "executionInfo": {
     "elapsed": 1646,
     "status": "ok",
     "timestamp": 1577166333979,
     "user": {
      "displayName": "이건무",
      "photoUrl": "https://lh3.googleusercontent.com/a-/AAuE7mBO5TbFEUXoPg9rEN8WwNftzu57wNaWgm26dWXgDQ=s64",
      "userId": "10344845448920829235"
     },
     "user_tz": -540
    },
    "id": "SpQdiObDE9-m",
    "outputId": "24684e9c-4fea-4657-f57c-212bb7e98af7"
   },
   "outputs": [
    {
     "data": {
      "text/plain": [
       "date              0\n",
       "the_open          0\n",
       "the_high          0\n",
       "the_low           0\n",
       "the_close         0\n",
       "the_vol           0\n",
       "usd_kor           0\n",
       "nasdaq            0\n",
       "open_by_open_1    0\n",
       "high_by_open_1    0\n",
       "usd_by_yes_1      0\n",
       "nas_by_yes_1      0\n",
       "good_bad          0\n",
       "dtype: int64"
      ]
     },
     "execution_count": 11,
     "metadata": {},
     "output_type": "execute_result"
    }
   ],
   "source": [
    "# Check missing values\n",
    "data.isnull().sum()"
   ]
  },
  {
   "cell_type": "markdown",
   "metadata": {
    "colab_type": "text",
    "id": "p02_Tj0zE9-o"
   },
   "source": [
    "위의 결과를 보았을 때, 결측치가 0인 것을 알 수 있다. "
   ]
  },
  {
   "cell_type": "code",
   "execution_count": 12,
   "metadata": {
    "colab": {},
    "colab_type": "code",
    "id": "Fpsulmm6E9-p"
   },
   "outputs": [
    {
     "name": "stdout",
     "output_type": "stream",
     "text": [
      "X shape:(981, 4), y shape:(981, 1)\n"
     ]
    }
   ],
   "source": [
    "X_columns = [\"open_by_open_1\", \"high_by_open_1\", \"usd_by_yes_1\", \"nas_by_yes_1\"]\n",
    "X = data[X_columns]\n",
    "y_columns = [\"good_bad\"]\n",
    "y = data[y_columns]\n",
    "print(f\"X shape:{X.shape}, y shape:{y.shape}\")"
   ]
  },
  {
   "cell_type": "markdown",
   "metadata": {
    "colab_type": "text",
    "id": "Gd8AL2T7E9-r"
   },
   "source": [
    "X는 0~7행까지로 임신횟수부터 나이까지의 행으로 독립변수이다.  \n",
    "y는 8행으로 당뇨병의 결과(0,1)를 의미한다. 종속변수이다. "
   ]
  },
  {
   "cell_type": "code",
   "execution_count": 13,
   "metadata": {
    "colab": {
     "base_uri": "https://localhost:8080/",
     "height": 214
    },
    "colab_type": "code",
    "executionInfo": {
     "elapsed": 1950,
     "status": "ok",
     "timestamp": 1577166363121,
     "user": {
      "displayName": "이건무",
      "photoUrl": "https://lh3.googleusercontent.com/a-/AAuE7mBO5TbFEUXoPg9rEN8WwNftzu57wNaWgm26dWXgDQ=s64",
      "userId": "10344845448920829235"
     },
     "user_tz": -540
    },
    "id": "iMxqwO8GE9-t",
    "outputId": "8ec4b27d-dadb-4e24-8127-2ce0186e9744",
    "scrolled": true
   },
   "outputs": [
    {
     "data": {
      "text/html": [
       "<div>\n",
       "<style scoped>\n",
       "    .dataframe tbody tr th:only-of-type {\n",
       "        vertical-align: middle;\n",
       "    }\n",
       "\n",
       "    .dataframe tbody tr th {\n",
       "        vertical-align: top;\n",
       "    }\n",
       "\n",
       "    .dataframe thead th {\n",
       "        text-align: right;\n",
       "    }\n",
       "</style>\n",
       "<table border=\"1\" class=\"dataframe\">\n",
       "  <thead>\n",
       "    <tr style=\"text-align: right;\">\n",
       "      <th></th>\n",
       "      <th>open_by_open_1</th>\n",
       "      <th>high_by_open_1</th>\n",
       "      <th>usd_by_yes_1</th>\n",
       "      <th>nas_by_yes_1</th>\n",
       "    </tr>\n",
       "  </thead>\n",
       "  <tbody>\n",
       "    <tr>\n",
       "      <td>1</td>\n",
       "      <td>0.999023</td>\n",
       "      <td>1.017107</td>\n",
       "      <td>1.002228</td>\n",
       "      <td>0.984114</td>\n",
       "    </tr>\n",
       "    <tr>\n",
       "      <td>2</td>\n",
       "      <td>1.045455</td>\n",
       "      <td>1.001403</td>\n",
       "      <td>1.005811</td>\n",
       "      <td>1.009311</td>\n",
       "    </tr>\n",
       "    <tr>\n",
       "      <td>3</td>\n",
       "      <td>1.004208</td>\n",
       "      <td>1.007914</td>\n",
       "      <td>1.003849</td>\n",
       "      <td>1.006478</td>\n",
       "    </tr>\n",
       "    <tr>\n",
       "      <td>4</td>\n",
       "      <td>0.980912</td>\n",
       "      <td>1.020408</td>\n",
       "      <td>0.997398</td>\n",
       "      <td>1.008962</td>\n",
       "    </tr>\n",
       "    <tr>\n",
       "      <td>5</td>\n",
       "      <td>0.994779</td>\n",
       "      <td>1.014790</td>\n",
       "      <td>1.003665</td>\n",
       "      <td>1.000507</td>\n",
       "    </tr>\n",
       "  </tbody>\n",
       "</table>\n",
       "</div>"
      ],
      "text/plain": [
       "   open_by_open_1  high_by_open_1  usd_by_yes_1  nas_by_yes_1\n",
       "1        0.999023        1.017107      1.002228      0.984114\n",
       "2        1.045455        1.001403      1.005811      1.009311\n",
       "3        1.004208        1.007914      1.003849      1.006478\n",
       "4        0.980912        1.020408      0.997398      1.008962\n",
       "5        0.994779        1.014790      1.003665      1.000507"
      ]
     },
     "execution_count": 13,
     "metadata": {},
     "output_type": "execute_result"
    }
   ],
   "source": [
    "X.head()"
   ]
  },
  {
   "cell_type": "code",
   "execution_count": 14,
   "metadata": {
    "colab": {
     "base_uri": "https://localhost:8080/",
     "height": 214
    },
    "colab_type": "code",
    "executionInfo": {
     "elapsed": 1640,
     "status": "ok",
     "timestamp": 1577166375347,
     "user": {
      "displayName": "이건무",
      "photoUrl": "https://lh3.googleusercontent.com/a-/AAuE7mBO5TbFEUXoPg9rEN8WwNftzu57wNaWgm26dWXgDQ=s64",
      "userId": "10344845448920829235"
     },
     "user_tz": -540
    },
    "id": "BosVjO0nE9-x",
    "outputId": "4e4e8677-9bf1-4b57-db67-93dc3ce9dfb9"
   },
   "outputs": [
    {
     "data": {
      "text/html": [
       "<div>\n",
       "<style scoped>\n",
       "    .dataframe tbody tr th:only-of-type {\n",
       "        vertical-align: middle;\n",
       "    }\n",
       "\n",
       "    .dataframe tbody tr th {\n",
       "        vertical-align: top;\n",
       "    }\n",
       "\n",
       "    .dataframe thead th {\n",
       "        text-align: right;\n",
       "    }\n",
       "</style>\n",
       "<table border=\"1\" class=\"dataframe\">\n",
       "  <thead>\n",
       "    <tr style=\"text-align: right;\">\n",
       "      <th></th>\n",
       "      <th>good_bad</th>\n",
       "    </tr>\n",
       "  </thead>\n",
       "  <tbody>\n",
       "    <tr>\n",
       "      <td>1</td>\n",
       "      <td>1.0</td>\n",
       "    </tr>\n",
       "    <tr>\n",
       "      <td>2</td>\n",
       "      <td>0.0</td>\n",
       "    </tr>\n",
       "    <tr>\n",
       "      <td>3</td>\n",
       "      <td>0.0</td>\n",
       "    </tr>\n",
       "    <tr>\n",
       "      <td>4</td>\n",
       "      <td>0.0</td>\n",
       "    </tr>\n",
       "    <tr>\n",
       "      <td>5</td>\n",
       "      <td>0.0</td>\n",
       "    </tr>\n",
       "  </tbody>\n",
       "</table>\n",
       "</div>"
      ],
      "text/plain": [
       "   good_bad\n",
       "1       1.0\n",
       "2       0.0\n",
       "3       0.0\n",
       "4       0.0\n",
       "5       0.0"
      ]
     },
     "execution_count": 14,
     "metadata": {},
     "output_type": "execute_result"
    }
   ],
   "source": [
    "y.head()"
   ]
  },
  {
   "cell_type": "markdown",
   "metadata": {
    "colab_type": "text",
    "id": "mnCb8ru-E9-z"
   },
   "source": [
    "위의 결과를 보았을 때 X에는 Pregnancies~Age 까지의 데이터프레임이고, y는 당뇨병결과(outcome)만 들어있는 데이터프레임인 것을 알 수 있다. "
   ]
  },
  {
   "cell_type": "markdown",
   "metadata": {
    "colab_type": "text",
    "id": "uxv3zVXBE9-1"
   },
   "source": [
    "shape를 통해 데이터셋의 모양을 확인한다."
   ]
  },
  {
   "cell_type": "code",
   "execution_count": 15,
   "metadata": {
    "colab": {
     "base_uri": "https://localhost:8080/",
     "height": 95
    },
    "colab_type": "code",
    "executionInfo": {
     "elapsed": 1655,
     "status": "ok",
     "timestamp": 1577166406015,
     "user": {
      "displayName": "이건무",
      "photoUrl": "https://lh3.googleusercontent.com/a-/AAuE7mBO5TbFEUXoPg9rEN8WwNftzu57wNaWgm26dWXgDQ=s64",
      "userId": "10344845448920829235"
     },
     "user_tz": -540
    },
    "id": "dVXo_yRdE9-2",
    "outputId": "a20fa654-c8ad-4f79-c9bd-16960c2ff4ac"
   },
   "outputs": [
    {
     "name": "stdout",
     "output_type": "stream",
     "text": [
      "(981, 4) (981, 1)\n"
     ]
    }
   ],
   "source": [
    "print(X.shape, y.shape)"
   ]
  },
  {
   "cell_type": "code",
   "execution_count": 16,
   "metadata": {
    "colab": {
     "base_uri": "https://localhost:8080/",
     "height": 299
    },
    "colab_type": "code",
    "executionInfo": {
     "elapsed": 1752,
     "status": "ok",
     "timestamp": 1577166415916,
     "user": {
      "displayName": "이건무",
      "photoUrl": "https://lh3.googleusercontent.com/a-/AAuE7mBO5TbFEUXoPg9rEN8WwNftzu57wNaWgm26dWXgDQ=s64",
      "userId": "10344845448920829235"
     },
     "user_tz": -540
    },
    "id": "TzI4cMAME9-4",
    "outputId": "2d59ef4b-e50a-4eff-df0d-4fb46c63e08c"
   },
   "outputs": [
    {
     "data": {
      "text/plain": [
       "<matplotlib.axes._subplots.AxesSubplot at 0x1ed4d25c708>"
      ]
     },
     "execution_count": 16,
     "metadata": {},
     "output_type": "execute_result"
    },
    {
     "data": {
      "image/png": "[encoded data removed]",
      "text/plain": [
       "<Figure size 432x288 with 1 Axes>"
      ]
     },
     "metadata": {},
     "output_type": "display_data"
    }
   ],
   "source": [
    "import seaborn as sns\n",
    "sns.set_style('whitegrid')\n",
    "sns.countplot(data['good_bad'],label=\"Count\")"
   ]
  },
  {
   "cell_type": "markdown",
   "metadata": {
    "colab_type": "text",
    "id": "DfxaPNULE9-6"
   },
   "source": [
    "결과의 개수를 나타낸 표이다.   \n",
    "당뇨병 아닌 사람 : 500명   \n",
    "    당뇨병인 사람 : 268명"
   ]
  },
  {
   "cell_type": "code",
   "execution_count": 17,
   "metadata": {
    "colab": {
     "base_uri": "https://localhost:8080/",
     "height": 589
    },
    "colab_type": "code",
    "executionInfo": {
     "elapsed": 2068,
     "status": "ok",
     "timestamp": 1577166437853,
     "user": {
      "displayName": "이건무",
      "photoUrl": "https://lh3.googleusercontent.com/a-/AAuE7mBO5TbFEUXoPg9rEN8WwNftzu57wNaWgm26dWXgDQ=s64",
      "userId": "10344845448920829235"
     },
     "user_tz": -540
    },
    "id": "WHl6O88wE9-7",
    "outputId": "321c86d8-386b-440a-99b2-de6b0f840393"
   },
   "outputs": [
    {
     "data": {
      "text/plain": [
       "<matplotlib.axes._subplots.AxesSubplot at 0x1ed4e549908>"
      ]
     },
     "execution_count": 17,
     "metadata": {},
     "output_type": "execute_result"
    },
    {
     "data": {
      "image/png": "[encoded data removed]",
      "text/plain": [
       "<Figure size 1080x1080 with 2 Axes>"
      ]
     },
     "metadata": {},
     "output_type": "display_data"
    }
   ],
   "source": [
    "correlation = X.corr()\n",
    "\n",
    "plt.figure(figsize=(15, 15))\n",
    "sns.heatmap(correlation, annot=True, fmt = '.2f',cmap='Blues', square=True)"
   ]
  },
  {
   "cell_type": "markdown",
   "metadata": {
    "colab_type": "text",
    "id": "joB6Q8uhE9-9"
   },
   "source": [
    "상관관계분석을 위하여 heatmap을 작성했다.   \n",
    "  \n",
    "0.54 : 나이와 임신횟수  \n",
    "0.47 : 당뇨병 여부와 글루코오스  \n",
    "0.44 : 인슐린과 피부두께  \n",
    "0.39 : BMI와 피부두께  \n",
    "0.29 : BMI와 당뇨병여부"
   ]
  },
  {
   "cell_type": "markdown",
   "metadata": {
    "colab_type": "text",
    "id": "0LjFdSJtE9-9"
   },
   "source": [
    "## k-Nearest Neighbors"
   ]
  },
  {
   "cell_type": "code",
   "execution_count": 18,
   "metadata": {
    "colab": {},
    "colab_type": "code",
    "id": "qR_eg1SwE9--"
   },
   "outputs": [],
   "source": [
    "from sklearn.model_selection import train_test_split\n",
    "X_train, X_test, y_train, y_test = train_test_split(X, y.values.ravel(), test_size=0.2)"
   ]
  },
  {
   "cell_type": "markdown",
   "metadata": {
    "colab_type": "text",
    "id": "CAKin-MgE9_A"
   },
   "source": [
    "테스트 데이터셋의 비율은 20퍼센트이다. 나머지는 훈련 데이터셋으로 사용한다."
   ]
  },
  {
   "cell_type": "code",
   "execution_count": 19,
   "metadata": {
    "colab": {},
    "colab_type": "code",
    "id": "gficTWRZE9_0"
   },
   "outputs": [],
   "source": [
    "import tensorflow as tf\n",
    "from tensorflow.keras import *\n",
    "y_train_mlp = np.array(list(map(lambda i: [1,0] if i == 0 else [0,1], y_train)))\n",
    "y_test_mlp = np.array(list(map(lambda i: [1,0] if i == 0 else [0,1], y_test)))\n",
    "X_train_mlp = X_train.to_numpy()\n",
    "X_test_mlp = X_test.to_numpy()"
   ]
  },
  {
   "cell_type": "code",
   "execution_count": 20,
   "metadata": {},
   "outputs": [],
   "source": [
    "model = models.Sequential([\n",
    "    layers.Dense(32, input_shape=(X_train.shape[1],), activation='relu'),\n",
    "    layers.Dense(32, activation='relu'),\n",
    "    layers.Dense(2, activation='softmax')\n",
    "])"
   ]
  },
  {
   "cell_type": "code",
   "execution_count": 21,
   "metadata": {},
   "outputs": [],
   "source": [
    "model.compile(optimizer = optimizers.Adam(lr=1e-5), metrics=[\"accuracy\"], loss='categorical_crossentropy')"
   ]
  },
  {
   "cell_type": "code",
   "execution_count": 22,
   "metadata": {},
   "outputs": [
    {
     "name": "stdout",
     "output_type": "stream",
     "text": [
      "Train on 784 samples, validate on 197 samples\n",
      "Epoch 1/100\n",
      "784/784 [==============================] - 1s 2ms/sample - loss: 0.6840 - accuracy: 0.6811 - val_loss: 0.6820 - val_accuracy: 0.6954\n",
      "Epoch 2/100\n",
      "784/784 [==============================] - 0s 131us/sample - loss: 0.6820 - accuracy: 0.6811 - val_loss: 0.6798 - val_accuracy: 0.6954\n",
      "Epoch 3/100\n",
      "784/784 [==============================] - 0s 115us/sample - loss: 0.6800 - accuracy: 0.6811 - val_loss: 0.6777 - val_accuracy: 0.6954\n",
      "Epoch 4/100\n",
      "784/784 [==============================] - 0s 119us/sample - loss: 0.6781 - accuracy: 0.6811 - val_loss: 0.6758 - val_accuracy: 0.6954\n",
      "Epoch 5/100\n",
      "784/784 [==============================] - 0s 128us/sample - loss: 0.6763 - accuracy: 0.6811 - val_loss: 0.6738 - val_accuracy: 0.6954\n",
      "Epoch 6/100\n",
      "784/784 [==============================] - 0s 122us/sample - loss: 0.6746 - accuracy: 0.6811 - val_loss: 0.6719 - val_accuracy: 0.6954\n",
      "Epoch 7/100\n",
      "784/784 [==============================] - 0s 111us/sample - loss: 0.6728 - accuracy: 0.6811 - val_loss: 0.6700 - val_accuracy: 0.6954\n",
      "Epoch 8/100\n",
      "784/784 [==============================] - 0s 106us/sample - loss: 0.6711 - accuracy: 0.6811 - val_loss: 0.6682 - val_accuracy: 0.6954\n",
      "Epoch 9/100\n",
      "784/784 [==============================] - 0s 110us/sample - loss: 0.6694 - accuracy: 0.6811 - val_loss: 0.6664 - val_accuracy: 0.6954\n",
      "Epoch 10/100\n",
      "784/784 [==============================] - 0s 106us/sample - loss: 0.6678 - accuracy: 0.6811 - val_loss: 0.6647 - val_accuracy: 0.6954\n",
      "Epoch 11/100\n",
      "784/784 [==============================] - 0s 116us/sample - loss: 0.6663 - accuracy: 0.6811 - val_loss: 0.6630 - val_accuracy: 0.6954\n",
      "Epoch 12/100\n",
      "784/784 [==============================] - 0s 122us/sample - loss: 0.6647 - accuracy: 0.6811 - val_loss: 0.6614 - val_accuracy: 0.6954\n",
      "Epoch 13/100\n",
      "784/784 [==============================] - 0s 120us/sample - loss: 0.6634 - accuracy: 0.6811 - val_loss: 0.6597 - val_accuracy: 0.6954\n",
      "Epoch 14/100\n",
      "784/784 [==============================] - 0s 112us/sample - loss: 0.6619 - accuracy: 0.6811 - val_loss: 0.6581 - val_accuracy: 0.6954\n",
      "Epoch 15/100\n",
      "784/784 [==============================] - 0s 133us/sample - loss: 0.6605 - accuracy: 0.6811 - val_loss: 0.6566 - val_accuracy: 0.6954\n",
      "Epoch 16/100\n",
      "784/784 [==============================] - 0s 142us/sample - loss: 0.6591 - accuracy: 0.6811 - val_loss: 0.6552 - val_accuracy: 0.6954\n",
      "Epoch 17/100\n",
      "784/784 [==============================] - 0s 138us/sample - loss: 0.6578 - accuracy: 0.6811 - val_loss: 0.6538 - val_accuracy: 0.6954\n",
      "Epoch 18/100\n",
      "784/784 [==============================] - 0s 135us/sample - loss: 0.6566 - accuracy: 0.6811 - val_loss: 0.6524 - val_accuracy: 0.6954\n",
      "Epoch 19/100\n",
      "784/784 [==============================] - 0s 143us/sample - loss: 0.6554 - accuracy: 0.6811 - val_loss: 0.6510 - val_accuracy: 0.6954\n",
      "Epoch 20/100\n",
      "784/784 [==============================] - 0s 135us/sample - loss: 0.6542 - accuracy: 0.6811 - val_loss: 0.6498 - val_accuracy: 0.6954\n",
      "Epoch 21/100\n",
      "784/784 [==============================] - 0s 133us/sample - loss: 0.6530 - accuracy: 0.6811 - val_loss: 0.6485 - val_accuracy: 0.6954\n",
      "Epoch 22/100\n",
      "784/784 [==============================] - 0s 130us/sample - loss: 0.6519 - accuracy: 0.6811 - val_loss: 0.6472 - val_accuracy: 0.6954\n",
      "Epoch 23/100\n",
      "784/784 [==============================] - 0s 131us/sample - loss: 0.6509 - accuracy: 0.6811 - val_loss: 0.6460 - val_accuracy: 0.6954\n",
      "Epoch 24/100\n",
      "784/784 [==============================] - 0s 120us/sample - loss: 0.6498 - accuracy: 0.6811 - val_loss: 0.6449 - val_accuracy: 0.6954\n",
      "Epoch 25/100\n",
      "784/784 [==============================] - 0s 137us/sample - loss: 0.6488 - accuracy: 0.6811 - val_loss: 0.6439 - val_accuracy: 0.6954\n",
      "Epoch 26/100\n",
      "784/784 [==============================] - 0s 133us/sample - loss: 0.6479 - accuracy: 0.6811 - val_loss: 0.6427 - val_accuracy: 0.6954\n",
      "Epoch 27/100\n",
      "784/784 [==============================] - 0s 122us/sample - loss: 0.6470 - accuracy: 0.6811 - val_loss: 0.6417 - val_accuracy: 0.6954\n",
      "Epoch 28/100\n",
      "784/784 [==============================] - 0s 105us/sample - loss: 0.6460 - accuracy: 0.6811 - val_loss: 0.6407 - val_accuracy: 0.6954\n",
      "Epoch 29/100\n",
      "784/784 [==============================] - 0s 124us/sample - loss: 0.6452 - accuracy: 0.6811 - val_loss: 0.6398 - val_accuracy: 0.6954\n",
      "Epoch 30/100\n",
      "784/784 [==============================] - 0s 114us/sample - loss: 0.6444 - accuracy: 0.6811 - val_loss: 0.6388 - val_accuracy: 0.6954\n",
      "Epoch 31/100\n",
      "784/784 [==============================] - 0s 124us/sample - loss: 0.6436 - accuracy: 0.6811 - val_loss: 0.6378 - val_accuracy: 0.6954\n",
      "Epoch 32/100\n",
      "784/784 [==============================] - 0s 117us/sample - loss: 0.6427 - accuracy: 0.6811 - val_loss: 0.6370 - val_accuracy: 0.6954\n",
      "Epoch 33/100\n",
      "784/784 [==============================] - 0s 134us/sample - loss: 0.6421 - accuracy: 0.6811 - val_loss: 0.6361 - val_accuracy: 0.6954\n",
      "Epoch 34/100\n",
      "784/784 [==============================] - 0s 138us/sample - loss: 0.6413 - accuracy: 0.6811 - val_loss: 0.6353 - val_accuracy: 0.6954\n",
      "Epoch 35/100\n",
      "784/784 [==============================] - 0s 130us/sample - loss: 0.6406 - accuracy: 0.6811 - val_loss: 0.6346 - val_accuracy: 0.6954\n",
      "Epoch 36/100\n",
      "784/784 [==============================] - 0s 122us/sample - loss: 0.6400 - accuracy: 0.6811 - val_loss: 0.6338 - val_accuracy: 0.6954\n",
      "Epoch 37/100\n",
      "784/784 [==============================] - 0s 122us/sample - loss: 0.6394 - accuracy: 0.6811 - val_loss: 0.6330 - val_accuracy: 0.6954\n",
      "Epoch 38/100\n",
      "784/784 [==============================] - 0s 126us/sample - loss: 0.6388 - accuracy: 0.6811 - val_loss: 0.6323 - val_accuracy: 0.6954\n",
      "Epoch 39/100\n",
      "784/784 [==============================] - 0s 122us/sample - loss: 0.6381 - accuracy: 0.6811 - val_loss: 0.6317 - val_accuracy: 0.6954\n",
      "Epoch 40/100\n",
      "784/784 [==============================] - 0s 120us/sample - loss: 0.6376 - accuracy: 0.6811 - val_loss: 0.6309 - val_accuracy: 0.6954\n",
      "Epoch 41/100\n",
      "784/784 [==============================] - 0s 157us/sample - loss: 0.6370 - accuracy: 0.6811 - val_loss: 0.6303 - val_accuracy: 0.6954\n",
      "Epoch 42/100\n",
      "784/784 [==============================] - 0s 144us/sample - loss: 0.6365 - accuracy: 0.6811 - val_loss: 0.6297 - val_accuracy: 0.6954\n",
      "Epoch 43/100\n",
      "784/784 [==============================] - 0s 124us/sample - loss: 0.6360 - accuracy: 0.6811 - val_loss: 0.6291 - val_accuracy: 0.6954\n",
      "Epoch 44/100\n",
      "784/784 [==============================] - 0s 114us/sample - loss: 0.6356 - accuracy: 0.6811 - val_loss: 0.6285 - val_accuracy: 0.6954\n",
      "Epoch 45/100\n",
      "784/784 [==============================] - 0s 128us/sample - loss: 0.6351 - accuracy: 0.6811 - val_loss: 0.6280 - val_accuracy: 0.6954\n",
      "Epoch 46/100\n",
      "784/784 [==============================] - 0s 138us/sample - loss: 0.6347 - accuracy: 0.6811 - val_loss: 0.6275 - val_accuracy: 0.6954\n",
      "Epoch 47/100\n",
      "784/784 [==============================] - 0s 130us/sample - loss: 0.6342 - accuracy: 0.6811 - val_loss: 0.6270 - val_accuracy: 0.6954\n",
      "Epoch 48/100\n",
      "784/784 [==============================] - 0s 157us/sample - loss: 0.6339 - accuracy: 0.6811 - val_loss: 0.6265 - val_accuracy: 0.6954\n",
      "Epoch 49/100\n",
      "784/784 [==============================] - 0s 121us/sample - loss: 0.6335 - accuracy: 0.6811 - val_loss: 0.6260 - val_accuracy: 0.6954\n",
      "Epoch 50/100\n",
      "784/784 [==============================] - 0s 128us/sample - loss: 0.6331 - accuracy: 0.6811 - val_loss: 0.6256 - val_accuracy: 0.6954\n",
      "Epoch 51/100\n",
      "784/784 [==============================] - 0s 130us/sample - loss: 0.6328 - accuracy: 0.6811 - val_loss: 0.6253 - val_accuracy: 0.6954\n",
      "Epoch 52/100\n",
      "784/784 [==============================] - 0s 133us/sample - loss: 0.6325 - accuracy: 0.6811 - val_loss: 0.6248 - val_accuracy: 0.6954\n",
      "Epoch 53/100\n",
      "784/784 [==============================] - 0s 113us/sample - loss: 0.6321 - accuracy: 0.6811 - val_loss: 0.6244 - val_accuracy: 0.6954\n",
      "Epoch 54/100\n",
      "784/784 [==============================] - 0s 122us/sample - loss: 0.6319 - accuracy: 0.6811 - val_loss: 0.6240 - val_accuracy: 0.6954\n",
      "Epoch 55/100\n",
      "784/784 [==============================] - 0s 114us/sample - loss: 0.6316 - accuracy: 0.6811 - val_loss: 0.6237 - val_accuracy: 0.6954\n",
      "Epoch 56/100\n"
     ]
    },
    {
     "name": "stdout",
     "output_type": "stream",
     "text": [
      "784/784 [==============================] - 0s 161us/sample - loss: 0.6313 - accuracy: 0.6811 - val_loss: 0.6234 - val_accuracy: 0.6954\n",
      "Epoch 57/100\n",
      "784/784 [==============================] - 0s 147us/sample - loss: 0.6311 - accuracy: 0.6811 - val_loss: 0.6230 - val_accuracy: 0.6954\n",
      "Epoch 58/100\n",
      "784/784 [==============================] - 0s 126us/sample - loss: 0.6308 - accuracy: 0.6811 - val_loss: 0.6227 - val_accuracy: 0.6954\n",
      "Epoch 59/100\n",
      "784/784 [==============================] - 0s 151us/sample - loss: 0.6306 - accuracy: 0.6811 - val_loss: 0.6223 - val_accuracy: 0.6954\n",
      "Epoch 60/100\n",
      "784/784 [==============================] - 0s 117us/sample - loss: 0.6303 - accuracy: 0.6811 - val_loss: 0.6221 - val_accuracy: 0.6954\n",
      "Epoch 61/100\n",
      "784/784 [==============================] - 0s 116us/sample - loss: 0.6301 - accuracy: 0.6811 - val_loss: 0.6218 - val_accuracy: 0.6954\n",
      "Epoch 62/100\n",
      "784/784 [==============================] - 0s 124us/sample - loss: 0.6299 - accuracy: 0.6811 - val_loss: 0.6215 - val_accuracy: 0.6954\n",
      "Epoch 63/100\n",
      "784/784 [==============================] - 0s 138us/sample - loss: 0.6297 - accuracy: 0.6811 - val_loss: 0.6213 - val_accuracy: 0.6954\n",
      "Epoch 64/100\n",
      "784/784 [==============================] - 0s 115us/sample - loss: 0.6295 - accuracy: 0.6811 - val_loss: 0.6209 - val_accuracy: 0.6954\n",
      "Epoch 65/100\n",
      "784/784 [==============================] - 0s 122us/sample - loss: 0.6293 - accuracy: 0.6811 - val_loss: 0.6208 - val_accuracy: 0.6954\n",
      "Epoch 66/100\n",
      "784/784 [==============================] - 0s 107us/sample - loss: 0.6291 - accuracy: 0.6811 - val_loss: 0.6206 - val_accuracy: 0.6954\n",
      "Epoch 67/100\n",
      "784/784 [==============================] - 0s 105us/sample - loss: 0.6290 - accuracy: 0.6811 - val_loss: 0.6202 - val_accuracy: 0.6954\n",
      "Epoch 68/100\n",
      "784/784 [==============================] - 0s 151us/sample - loss: 0.6288 - accuracy: 0.6811 - val_loss: 0.6201 - val_accuracy: 0.6954\n",
      "Epoch 69/100\n",
      "784/784 [==============================] - 0s 136us/sample - loss: 0.6287 - accuracy: 0.6811 - val_loss: 0.6198 - val_accuracy: 0.6954\n",
      "Epoch 70/100\n",
      "784/784 [==============================] - 0s 128us/sample - loss: 0.6285 - accuracy: 0.6811 - val_loss: 0.6197 - val_accuracy: 0.6954\n",
      "Epoch 71/100\n",
      "784/784 [==============================] - 0s 117us/sample - loss: 0.6284 - accuracy: 0.6811 - val_loss: 0.6194 - val_accuracy: 0.6954\n",
      "Epoch 72/100\n",
      "784/784 [==============================] - 0s 119us/sample - loss: 0.6282 - accuracy: 0.6811 - val_loss: 0.6193 - val_accuracy: 0.6954\n",
      "Epoch 73/100\n",
      "784/784 [==============================] - 0s 134us/sample - loss: 0.6281 - accuracy: 0.6811 - val_loss: 0.6191 - val_accuracy: 0.6954\n",
      "Epoch 74/100\n",
      "784/784 [==============================] - 0s 110us/sample - loss: 0.6280 - accuracy: 0.6811 - val_loss: 0.6190 - val_accuracy: 0.6954\n",
      "Epoch 75/100\n",
      "784/784 [==============================] - 0s 116us/sample - loss: 0.6279 - accuracy: 0.6811 - val_loss: 0.6188 - val_accuracy: 0.6954\n",
      "Epoch 76/100\n",
      "784/784 [==============================] - 0s 112us/sample - loss: 0.6278 - accuracy: 0.6811 - val_loss: 0.6186 - val_accuracy: 0.6954\n",
      "Epoch 77/100\n",
      "784/784 [==============================] - 0s 121us/sample - loss: 0.6277 - accuracy: 0.6811 - val_loss: 0.6185 - val_accuracy: 0.6954\n",
      "Epoch 78/100\n",
      "784/784 [==============================] - 0s 115us/sample - loss: 0.6276 - accuracy: 0.6811 - val_loss: 0.6183 - val_accuracy: 0.6954\n",
      "Epoch 79/100\n",
      "784/784 [==============================] - 0s 114us/sample - loss: 0.6275 - accuracy: 0.6811 - val_loss: 0.6182 - val_accuracy: 0.6954\n",
      "Epoch 80/100\n",
      "784/784 [==============================] - 0s 126us/sample - loss: 0.6274 - accuracy: 0.6811 - val_loss: 0.6181 - val_accuracy: 0.6954\n",
      "Epoch 81/100\n",
      "784/784 [==============================] - 0s 117us/sample - loss: 0.6274 - accuracy: 0.6811 - val_loss: 0.6180 - val_accuracy: 0.6954\n",
      "Epoch 82/100\n",
      "784/784 [==============================] - 0s 115us/sample - loss: 0.6273 - accuracy: 0.6811 - val_loss: 0.6179 - val_accuracy: 0.6954\n",
      "Epoch 83/100\n",
      "784/784 [==============================] - 0s 131us/sample - loss: 0.6272 - accuracy: 0.6811 - val_loss: 0.6178 - val_accuracy: 0.6954\n",
      "Epoch 84/100\n",
      "784/784 [==============================] - 0s 115us/sample - loss: 0.6272 - accuracy: 0.6811 - val_loss: 0.6177 - val_accuracy: 0.6954\n",
      "Epoch 85/100\n",
      "784/784 [==============================] - 0s 114us/sample - loss: 0.6271 - accuracy: 0.6811 - val_loss: 0.6176 - val_accuracy: 0.6954\n",
      "Epoch 86/100\n",
      "784/784 [==============================] - 0s 115us/sample - loss: 0.6271 - accuracy: 0.6811 - val_loss: 0.6175 - val_accuracy: 0.6954\n",
      "Epoch 87/100\n",
      "784/784 [==============================] - 0s 116us/sample - loss: 0.6270 - accuracy: 0.6811 - val_loss: 0.6174 - val_accuracy: 0.6954\n",
      "Epoch 88/100\n",
      "784/784 [==============================] - 0s 103us/sample - loss: 0.6270 - accuracy: 0.6811 - val_loss: 0.6173 - val_accuracy: 0.6954\n",
      "Epoch 89/100\n",
      "784/784 [==============================] - 0s 108us/sample - loss: 0.6270 - accuracy: 0.6811 - val_loss: 0.6173 - val_accuracy: 0.6954\n",
      "Epoch 90/100\n",
      "784/784 [==============================] - 0s 99us/sample - loss: 0.6269 - accuracy: 0.6811 - val_loss: 0.6172 - val_accuracy: 0.6954\n",
      "Epoch 91/100\n",
      "784/784 [==============================] - 0s 148us/sample - loss: 0.6269 - accuracy: 0.6811 - val_loss: 0.6171 - val_accuracy: 0.6954\n",
      "Epoch 92/100\n",
      "784/784 [==============================] - 0s 117us/sample - loss: 0.6268 - accuracy: 0.6811 - val_loss: 0.6171 - val_accuracy: 0.6954\n",
      "Epoch 93/100\n",
      "784/784 [==============================] - 0s 139us/sample - loss: 0.6268 - accuracy: 0.6811 - val_loss: 0.6170 - val_accuracy: 0.6954\n",
      "Epoch 94/100\n",
      "784/784 [==============================] - 0s 136us/sample - loss: 0.6268 - accuracy: 0.6811 - val_loss: 0.6170 - val_accuracy: 0.6954\n",
      "Epoch 95/100\n",
      "784/784 [==============================] - 0s 129us/sample - loss: 0.6267 - accuracy: 0.6811 - val_loss: 0.6169 - val_accuracy: 0.6954\n",
      "Epoch 96/100\n",
      "784/784 [==============================] - 0s 126us/sample - loss: 0.6267 - accuracy: 0.6811 - val_loss: 0.6168 - val_accuracy: 0.6954\n",
      "Epoch 97/100\n",
      "784/784 [==============================] - 0s 115us/sample - loss: 0.6267 - accuracy: 0.6811 - val_loss: 0.6168 - val_accuracy: 0.6954\n",
      "Epoch 98/100\n",
      "784/784 [==============================] - 0s 112us/sample - loss: 0.6267 - accuracy: 0.6811 - val_loss: 0.6167 - val_accuracy: 0.6954\n",
      "Epoch 99/100\n",
      "784/784 [==============================] - 0s 116us/sample - loss: 0.6266 - accuracy: 0.6811 - val_loss: 0.6167 - val_accuracy: 0.6954\n",
      "Epoch 100/100\n",
      "784/784 [==============================] - 0s 112us/sample - loss: 0.6266 - accuracy: 0.6811 - val_loss: 0.6166 - val_accuracy: 0.6954\n"
     ]
    },
    {
     "data": {
      "text/plain": [
       "<tensorflow.python.keras.callbacks.History at 0x1ed55f46408>"
      ]
     },
     "execution_count": 22,
     "metadata": {},
     "output_type": "execute_result"
    }
   ],
   "source": [
    "model.fit(X_train_mlp, y_train_mlp, validation_data=(X_test_mlp, y_test_mlp), epochs=100)"
   ]
  },
  {
   "cell_type": "code",
   "execution_count": 23,
   "metadata": {},
   "outputs": [
    {
     "data": {
      "text/plain": [
       "array([[0.6700586 , 0.32994136],\n",
       "       [0.66968435, 0.33031565],\n",
       "       [0.6684377 , 0.33156228],\n",
       "       [0.6700521 , 0.32994792],\n",
       "       [0.6688185 , 0.33118156],\n",
       "       [0.6689957 , 0.33100426],\n",
       "       [0.6682303 , 0.3317697 ],\n",
       "       [0.6696336 , 0.33036634],\n",
       "       [0.6694869 , 0.33051315],\n",
       "       [0.6682547 , 0.3317453 ],\n",
       "       [0.66962737, 0.33037263],\n",
       "       [0.66982806, 0.3301719 ],\n",
       "       [0.6684629 , 0.33153713],\n",
       "       [0.6682266 , 0.33177337],\n",
       "       [0.66911185, 0.33088806],\n",
       "       [0.6690503 , 0.33094966],\n",
       "       [0.6674153 , 0.33258468],\n",
       "       [0.66986036, 0.33013955],\n",
       "       [0.6686966 , 0.33130336],\n",
       "       [0.6694276 , 0.3305725 ],\n",
       "       [0.66838413, 0.3316158 ],\n",
       "       [0.6685308 , 0.3314691 ],\n",
       "       [0.6698801 , 0.33011988],\n",
       "       [0.6693251 , 0.33067492],\n",
       "       [0.6706276 , 0.3293724 ],\n",
       "       [0.6669315 , 0.3330684 ],\n",
       "       [0.6684972 , 0.33150274],\n",
       "       [0.6690013 , 0.33099875],\n",
       "       [0.6700609 , 0.32993907],\n",
       "       [0.66845006, 0.3315499 ],\n",
       "       [0.6673699 , 0.33263004],\n",
       "       [0.6693987 , 0.33060125],\n",
       "       [0.6688616 , 0.33113837],\n",
       "       [0.669325  , 0.33067498],\n",
       "       [0.66932833, 0.33067167],\n",
       "       [0.66937566, 0.33062437],\n",
       "       [0.6686803 , 0.33131966],\n",
       "       [0.66805   , 0.33195004],\n",
       "       [0.66915977, 0.33084023],\n",
       "       [0.66944927, 0.3305507 ],\n",
       "       [0.66845655, 0.33154345],\n",
       "       [0.66899   , 0.33100998],\n",
       "       [0.6689428 , 0.33105716],\n",
       "       [0.6677347 , 0.3322653 ],\n",
       "       [0.66955715, 0.33044288],\n",
       "       [0.66862077, 0.33137918],\n",
       "       [0.6687383 , 0.33126163],\n",
       "       [0.66776156, 0.3322384 ],\n",
       "       [0.66872716, 0.33127284],\n",
       "       [0.66854256, 0.33145744],\n",
       "       [0.66741365, 0.33258632],\n",
       "       [0.66996056, 0.33003947],\n",
       "       [0.6669595 , 0.33304042],\n",
       "       [0.6694946 , 0.3305054 ],\n",
       "       [0.6687072 , 0.33129278],\n",
       "       [0.66871   , 0.33129004],\n",
       "       [0.66906255, 0.3309374 ],\n",
       "       [0.6693957 , 0.3306043 ],\n",
       "       [0.6686417 , 0.33135834],\n",
       "       [0.6687074 , 0.33129266],\n",
       "       [0.66967565, 0.33032435],\n",
       "       [0.66975516, 0.33024478],\n",
       "       [0.67012006, 0.32987994],\n",
       "       [0.66918695, 0.330813  ],\n",
       "       [0.6687598 , 0.33124018],\n",
       "       [0.6685745 , 0.3314254 ],\n",
       "       [0.6683686 , 0.33163142],\n",
       "       [0.66962034, 0.3303796 ],\n",
       "       [0.6688608 , 0.33113918],\n",
       "       [0.66711897, 0.332881  ],\n",
       "       [0.6687306 , 0.33126938],\n",
       "       [0.66885144, 0.33114856],\n",
       "       [0.6685965 , 0.3314035 ],\n",
       "       [0.6691024 , 0.33089757],\n",
       "       [0.67035806, 0.3296419 ],\n",
       "       [0.668067  , 0.33193302],\n",
       "       [0.6692043 , 0.3307957 ],\n",
       "       [0.6696129 , 0.33038712],\n",
       "       [0.6691404 , 0.33085957],\n",
       "       [0.67107916, 0.3289208 ],\n",
       "       [0.66855705, 0.33144286],\n",
       "       [0.66818744, 0.33181253],\n",
       "       [0.66891015, 0.33108985],\n",
       "       [0.66953206, 0.33046794],\n",
       "       [0.67061144, 0.32938853],\n",
       "       [0.66883075, 0.33116925],\n",
       "       [0.6675225 , 0.33247748],\n",
       "       [0.66867113, 0.3313289 ],\n",
       "       [0.66977745, 0.33022258],\n",
       "       [0.6691816 , 0.3308184 ],\n",
       "       [0.66776425, 0.33223575],\n",
       "       [0.668639  , 0.3313609 ],\n",
       "       [0.6685536 , 0.3314464 ],\n",
       "       [0.6681952 , 0.33180475],\n",
       "       [0.6707873 , 0.32921273],\n",
       "       [0.66980237, 0.3301976 ],\n",
       "       [0.66875714, 0.33124286],\n",
       "       [0.67115146, 0.32884854],\n",
       "       [0.6679142 , 0.33208576],\n",
       "       [0.6679034 , 0.33209652],\n",
       "       [0.6698888 , 0.33011124],\n",
       "       [0.6691893 , 0.33081073],\n",
       "       [0.66841257, 0.33158734],\n",
       "       [0.6670182 , 0.33298182],\n",
       "       [0.66984487, 0.33015507],\n",
       "       [0.66823715, 0.33176285],\n",
       "       [0.66862726, 0.33137274],\n",
       "       [0.6693768 , 0.3306232 ],\n",
       "       [0.6687352 , 0.33126482],\n",
       "       [0.66800225, 0.3319977 ],\n",
       "       [0.6687634 , 0.3312366 ],\n",
       "       [0.6708972 , 0.32910275],\n",
       "       [0.66620505, 0.33379495],\n",
       "       [0.66854674, 0.3314533 ],\n",
       "       [0.6692182 , 0.3307818 ],\n",
       "       [0.6682425 , 0.33175746],\n",
       "       [0.6688041 , 0.3311959 ],\n",
       "       [0.6689629 , 0.33103707],\n",
       "       [0.6689436 , 0.33105636],\n",
       "       [0.6688335 , 0.33116645],\n",
       "       [0.6698346 , 0.3301654 ],\n",
       "       [0.6693692 , 0.33063075],\n",
       "       [0.6686762 , 0.3313237 ],\n",
       "       [0.66905123, 0.3309487 ],\n",
       "       [0.67121613, 0.32878387],\n",
       "       [0.66943246, 0.33056748],\n",
       "       [0.6701009 , 0.3298991 ],\n",
       "       [0.66857404, 0.331426  ],\n",
       "       [0.66886324, 0.33113673],\n",
       "       [0.66867256, 0.3313274 ],\n",
       "       [0.6685336 , 0.33146638],\n",
       "       [0.669073  , 0.330927  ],\n",
       "       [0.6690746 , 0.33092532],\n",
       "       [0.66787106, 0.33212888],\n",
       "       [0.66918236, 0.33081755],\n",
       "       [0.6684707 , 0.3315293 ],\n",
       "       [0.66870075, 0.33129928],\n",
       "       [0.6686586 , 0.33134133],\n",
       "       [0.66842866, 0.3315713 ],\n",
       "       [0.66770214, 0.3322979 ],\n",
       "       [0.66927594, 0.3307241 ],\n",
       "       [0.66862077, 0.33137926],\n",
       "       [0.669416  , 0.33058393],\n",
       "       [0.6683148 , 0.33168513],\n",
       "       [0.6696129 , 0.3303871 ],\n",
       "       [0.6694017 , 0.33059824],\n",
       "       [0.67100805, 0.32899186],\n",
       "       [0.6684328 , 0.33156717],\n",
       "       [0.6683685 , 0.33163145],\n",
       "       [0.6667824 , 0.3332176 ],\n",
       "       [0.67035115, 0.32964882],\n",
       "       [0.6689872 , 0.33101273],\n",
       "       [0.6689505 , 0.3310495 ],\n",
       "       [0.66939527, 0.33060467],\n",
       "       [0.6699824 , 0.3300176 ],\n",
       "       [0.66816336, 0.33183658],\n",
       "       [0.66837335, 0.33162665],\n",
       "       [0.66830164, 0.3316984 ],\n",
       "       [0.66857034, 0.33142966],\n",
       "       [0.66834605, 0.331654  ],\n",
       "       [0.6684935 , 0.3315065 ],\n",
       "       [0.6680576 , 0.33194238],\n",
       "       [0.6683062 , 0.33169377],\n",
       "       [0.66873986, 0.33126011],\n",
       "       [0.66855913, 0.3314408 ],\n",
       "       [0.66975725, 0.33024278],\n",
       "       [0.6692291 , 0.3307709 ],\n",
       "       [0.6695523 , 0.33044764],\n",
       "       [0.66820717, 0.33179283],\n",
       "       [0.6696464 , 0.33035356],\n",
       "       [0.6686437 , 0.33135623],\n",
       "       [0.66916734, 0.33083266],\n",
       "       [0.66905755, 0.33094245],\n",
       "       [0.6689074 , 0.3310926 ],\n",
       "       [0.6687535 , 0.33124644],\n",
       "       [0.66830564, 0.3316944 ],\n",
       "       [0.6688982 , 0.33110172],\n",
       "       [0.6682981 , 0.33170187],\n",
       "       [0.66906816, 0.3309318 ],\n",
       "       [0.6697308 , 0.3302692 ],\n",
       "       [0.67012787, 0.32987213],\n",
       "       [0.668465  , 0.33153498],\n",
       "       [0.6681851 , 0.33181491],\n",
       "       [0.66829395, 0.33170605],\n",
       "       [0.6685495 , 0.33145052],\n",
       "       [0.6692899 , 0.33071008],\n",
       "       [0.66906184, 0.33093822],\n",
       "       [0.66842234, 0.33157766],\n",
       "       [0.6683139 , 0.33168605],\n",
       "       [0.6690294 , 0.33097053],\n",
       "       [0.668108  , 0.33189204],\n",
       "       [0.6684632 , 0.33153677],\n",
       "       [0.66944414, 0.3305559 ],\n",
       "       [0.66870415, 0.33129582],\n",
       "       [0.66823196, 0.33176804],\n",
       "       [0.67236197, 0.32763794],\n",
       "       [0.67136323, 0.3286368 ]], dtype=float32)"
      ]
     },
     "execution_count": 23,
     "metadata": {},
     "output_type": "execute_result"
    }
   ],
   "source": [
    "model.predict(X_test_mlp)"
   ]
  },
  {
   "cell_type": "code",
   "execution_count": 29,
   "metadata": {},
   "outputs": [
    {
     "data": {
      "text/plain": [
       "array([[0.7749023 , 0.22509775]], dtype=float32)"
      ]
     },
     "execution_count": 29,
     "metadata": {},
     "output_type": "execute_result"
    }
   ],
   "source": [
    "a = np.array([[1.91,1.91,1.91,1.91]])\n",
    "model.predict(a)"
   ]
  },
  {
   "cell_type": "code",
   "execution_count": 30,
   "metadata": {},
   "outputs": [
    {
     "data": {
      "text/plain": [
       "array([[0.6561498 , 0.34385014]], dtype=float32)"
      ]
     },
     "execution_count": 30,
     "metadata": {},
     "output_type": "execute_result"
    }
   ],
   "source": [
    "a = np.array([[0.91,0.91,0.91,0.91]])\n",
    "model.predict(a)"
   ]
  },
  {
   "cell_type": "code",
   "execution_count": null,
   "metadata": {},
   "outputs": [],
   "source": []
  }
 ],
 "metadata": {
  "accelerator": "GPU",
  "colab": {
   "collapsed_sections": [],
   "name": "moo2_diabetes.ipynb",
   "provenance": [
    {
     "file_id": "https://github.com/jiyeon1997/data-analysis/blob/master/diabetes.ipynb",
     "timestamp": 1577160286919
    }
   ]
  },
  "kernelspec": {
   "display_name": "Python 3",
   "language": "python",
   "name": "python3"
  },
  "language_info": {
   "codemirror_mode": {
    "name": "ipython",
    "version": 3
   },
   "file_extension": ".py",
   "mimetype": "text/x-python",
   "name": "python",
   "nbconvert_exporter": "python",
   "pygments_lexer": "ipython3",
   "version": "3.7.4"
  }
 },
 "nbformat": 4,
 "nbformat_minor": 1
}
